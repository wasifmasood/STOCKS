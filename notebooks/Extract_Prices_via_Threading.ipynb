{
 "cells": [
  {
   "cell_type": "code",
   "execution_count": 1,
   "metadata": {},
   "outputs": [],
   "source": [
    "import os, sys\n",
    "sys.path.append(os.getcwd() + '/../..')\n",
    "sys.path.append(os.getcwd() + '/..')"
   ]
  },
  {
   "cell_type": "code",
   "execution_count": 2,
   "metadata": {},
   "outputs": [],
   "source": [
    "### allows to direct changes in the packages to be immidiately visibe in the notebook \n",
    "%load_ext autoreload\n",
    "%autoreload 2"
   ]
  },
  {
   "cell_type": "code",
   "execution_count": 13,
   "metadata": {},
   "outputs": [],
   "source": [
    "import pandas as pd\n",
    "import numpy as np\n",
    "import pandas_datareader.data as web\n",
    "import datetime \n",
    "from multiprocessing.dummy import Pool as ThreadPool\n",
    "from pandas_datareader._utils import RemoteDataError\n",
    "from datetime import date"
   ]
  },
  {
   "cell_type": "code",
   "execution_count": 4,
   "metadata": {},
   "outputs": [],
   "source": [
    "import packages.extract_data as extd"
   ]
  },
  {
   "cell_type": "markdown",
   "metadata": {},
   "source": [
    "### Pull the famous Indices"
   ]
  },
  {
   "cell_type": "code",
   "execution_count": 7,
   "metadata": {},
   "outputs": [],
   "source": [
    "indices_symbols = extd.get_famous_symbols(fresh=True)\n",
    "indices_symbols = indices_symbols.drop_duplicates(subset='Symbol', keep=\"first\")"
   ]
  },
  {
   "cell_type": "code",
   "execution_count": 8,
   "metadata": {},
   "outputs": [
    {
     "data": {
      "text/html": [
       "<div>\n",
       "<style scoped>\n",
       "    .dataframe tbody tr th:only-of-type {\n",
       "        vertical-align: middle;\n",
       "    }\n",
       "\n",
       "    .dataframe tbody tr th {\n",
       "        vertical-align: top;\n",
       "    }\n",
       "\n",
       "    .dataframe thead th {\n",
       "        text-align: right;\n",
       "    }\n",
       "</style>\n",
       "<table border=\"1\" class=\"dataframe\">\n",
       "  <thead>\n",
       "    <tr style=\"text-align: right;\">\n",
       "      <th></th>\n",
       "      <th>Symbol</th>\n",
       "      <th>Name</th>\n",
       "      <th>Index</th>\n",
       "    </tr>\n",
       "  </thead>\n",
       "  <tbody>\n",
       "    <tr>\n",
       "      <th>0</th>\n",
       "      <td>RDSB.L</td>\n",
       "      <td>Royal Dutch Shell</td>\n",
       "      <td>FTSE 100</td>\n",
       "    </tr>\n",
       "    <tr>\n",
       "      <th>1</th>\n",
       "      <td>RDSA.L</td>\n",
       "      <td>Royal Dutch Shell</td>\n",
       "      <td>FTSE 100</td>\n",
       "    </tr>\n",
       "    <tr>\n",
       "      <th>2</th>\n",
       "      <td>HSBA.L</td>\n",
       "      <td>HSBC Holdings</td>\n",
       "      <td>FTSE 100</td>\n",
       "    </tr>\n",
       "    <tr>\n",
       "      <th>3</th>\n",
       "      <td>ULVR.L</td>\n",
       "      <td>Unilever</td>\n",
       "      <td>FTSE 100</td>\n",
       "    </tr>\n",
       "    <tr>\n",
       "      <th>4</th>\n",
       "      <td>BP.L</td>\n",
       "      <td>BP</td>\n",
       "      <td>FTSE 100</td>\n",
       "    </tr>\n",
       "    <tr>\n",
       "      <th>...</th>\n",
       "      <td>...</td>\n",
       "      <td>...</td>\n",
       "      <td>...</td>\n",
       "    </tr>\n",
       "    <tr>\n",
       "      <th>1347</th>\n",
       "      <td>TRMK.ME</td>\n",
       "      <td>Trubnaya Metall</td>\n",
       "      <td>MOEX</td>\n",
       "    </tr>\n",
       "    <tr>\n",
       "      <th>1348</th>\n",
       "      <td>MTLRP.ME</td>\n",
       "      <td>Mechel P</td>\n",
       "      <td>MOEX</td>\n",
       "    </tr>\n",
       "    <tr>\n",
       "      <th>1349</th>\n",
       "      <td>UWGN.ME</td>\n",
       "      <td>Npk Ovk</td>\n",
       "      <td>MOEX</td>\n",
       "    </tr>\n",
       "    <tr>\n",
       "      <th>1350</th>\n",
       "      <td>MTLR.ME</td>\n",
       "      <td>Mechel</td>\n",
       "      <td>MOEX</td>\n",
       "    </tr>\n",
       "    <tr>\n",
       "      <th>1351</th>\n",
       "      <td>LSRG.ME</td>\n",
       "      <td>Gruppa LSR PAO</td>\n",
       "      <td>MOEX</td>\n",
       "    </tr>\n",
       "  </tbody>\n",
       "</table>\n",
       "<p>1352 rows × 3 columns</p>\n",
       "</div>"
      ],
      "text/plain": [
       "        Symbol               Name     Index\n",
       "0       RDSB.L  Royal Dutch Shell  FTSE 100\n",
       "1       RDSA.L  Royal Dutch Shell  FTSE 100\n",
       "2       HSBA.L      HSBC Holdings  FTSE 100\n",
       "3       ULVR.L           Unilever  FTSE 100\n",
       "4         BP.L                 BP  FTSE 100\n",
       "...        ...                ...       ...\n",
       "1347   TRMK.ME    Trubnaya Metall      MOEX\n",
       "1348  MTLRP.ME           Mechel P      MOEX\n",
       "1349   UWGN.ME            Npk Ovk      MOEX\n",
       "1350   MTLR.ME             Mechel      MOEX\n",
       "1351   LSRG.ME     Gruppa LSR PAO      MOEX\n",
       "\n",
       "[1352 rows x 3 columns]"
      ]
     },
     "execution_count": 8,
     "metadata": {},
     "output_type": "execute_result"
    }
   ],
   "source": [
    "indices_symbols"
   ]
  },
  {
   "cell_type": "code",
   "execution_count": 9,
   "metadata": {},
   "outputs": [
    {
     "data": {
      "text/plain": [
       "(1277, 3)"
      ]
     },
     "execution_count": 9,
     "metadata": {},
     "output_type": "execute_result"
    }
   ],
   "source": [
    "indices_symbols.shape"
   ]
  },
  {
   "cell_type": "code",
   "execution_count": 14,
   "metadata": {},
   "outputs": [],
   "source": [
    "def get_price_history(symbol_list):\n",
    "    today = date.today()\n",
    "    df_history = pd.DataFrame()\n",
    "    dt_start = '2015-01-01'\n",
    "    #dt_end = '2020-04-30'\n",
    "    dt_end = today.strftime('%Y-%m-%d')\n",
    "    try:\n",
    "        print('Pulling: ' + symbol_list)\n",
    "        df_history = extd.get_individual_quote_history(symbol_list, dt_start, dt_end, '1d')\n",
    "        if df_history is None:\n",
    "            return None\n",
    "        df_history['Symbol'] = symbol_list\n",
    "    except RemoteDataError:\n",
    "        exp_text = 'Symbol Not Found:' + symbol_list\n",
    "        print(exp_text)\n",
    "        error_q.put(exp_text)        \n",
    "        pass \n",
    "    return df_history"
   ]
  },
  {
   "cell_type": "markdown",
   "metadata": {},
   "source": [
    "### Run with Multithreading\n",
    "##### multiprocessing will not help much in this case."
   ]
  },
  {
   "cell_type": "code",
   "execution_count": 19,
   "metadata": {},
   "outputs": [
    {
     "name": "stdout",
     "output_type": "stream",
     "text": [
      "Pulling: RDSB.LPulling: RDSA.LPulling: HSBA.LPulling: ULVR.L\n",
      "\n",
      "Pulling: BP.L\n",
      "\n",
      "\n",
      "Wall time: 1.05 s\n"
     ]
    }
   ],
   "source": [
    "%%time\n",
    "\n",
    "from queue import Queue\n",
    "error_q = Queue()\n",
    "### run 200 threads in parallel, each thread will pull prices for one symbol\n",
    "pool = ThreadPool(200)\n",
    "# Open the urls in their own threads and return the results\n",
    "results = pd.concat(pool.map(get_price_history, indices_symbols.Symbol.values[0:5]))\n",
    "# Close the pool and wait for the work to finish\n",
    "pool.close()\n",
    "pool.join()"
   ]
  },
  {
   "cell_type": "code",
   "execution_count": 20,
   "metadata": {},
   "outputs": [
    {
     "data": {
      "text/html": [
       "<div>\n",
       "<style scoped>\n",
       "    .dataframe tbody tr th:only-of-type {\n",
       "        vertical-align: middle;\n",
       "    }\n",
       "\n",
       "    .dataframe tbody tr th {\n",
       "        vertical-align: top;\n",
       "    }\n",
       "\n",
       "    .dataframe thead th {\n",
       "        text-align: right;\n",
       "    }\n",
       "</style>\n",
       "<table border=\"1\" class=\"dataframe\">\n",
       "  <thead>\n",
       "    <tr style=\"text-align: right;\">\n",
       "      <th></th>\n",
       "      <th>Open</th>\n",
       "      <th>High</th>\n",
       "      <th>Low</th>\n",
       "      <th>Close</th>\n",
       "      <th>Volume</th>\n",
       "      <th>Adj_Close</th>\n",
       "      <th>Symbol</th>\n",
       "    </tr>\n",
       "    <tr>\n",
       "      <th>Datetime</th>\n",
       "      <th></th>\n",
       "      <th></th>\n",
       "      <th></th>\n",
       "      <th></th>\n",
       "      <th></th>\n",
       "      <th></th>\n",
       "      <th></th>\n",
       "    </tr>\n",
       "  </thead>\n",
       "  <tbody>\n",
       "    <tr>\n",
       "      <th>2015-01-02 09:00:00</th>\n",
       "      <td>2242.0</td>\n",
       "      <td>2256.0</td>\n",
       "      <td>2205.0</td>\n",
       "      <td>2235.5</td>\n",
       "      <td>2963987.0</td>\n",
       "      <td>1559.451416</td>\n",
       "      <td>RDSB.L</td>\n",
       "    </tr>\n",
       "    <tr>\n",
       "      <th>2015-01-05 09:00:00</th>\n",
       "      <td>2220.0</td>\n",
       "      <td>2229.0</td>\n",
       "      <td>2123.0</td>\n",
       "      <td>2128.5</td>\n",
       "      <td>5908429.0</td>\n",
       "      <td>1484.810181</td>\n",
       "      <td>RDSB.L</td>\n",
       "    </tr>\n",
       "    <tr>\n",
       "      <th>2015-01-06 09:00:00</th>\n",
       "      <td>2125.0</td>\n",
       "      <td>2172.5</td>\n",
       "      <td>2077.5</td>\n",
       "      <td>2121.0</td>\n",
       "      <td>5231824.0</td>\n",
       "      <td>1479.578003</td>\n",
       "      <td>RDSB.L</td>\n",
       "    </tr>\n",
       "    <tr>\n",
       "      <th>2015-01-07 09:00:00</th>\n",
       "      <td>2122.0</td>\n",
       "      <td>2181.5</td>\n",
       "      <td>2104.0</td>\n",
       "      <td>2148.5</td>\n",
       "      <td>5989533.0</td>\n",
       "      <td>1498.761475</td>\n",
       "      <td>RDSB.L</td>\n",
       "    </tr>\n",
       "    <tr>\n",
       "      <th>2015-01-08 09:00:00</th>\n",
       "      <td>2187.5</td>\n",
       "      <td>2207.5</td>\n",
       "      <td>2162.0</td>\n",
       "      <td>2200.0</td>\n",
       "      <td>4272088.0</td>\n",
       "      <td>1534.687256</td>\n",
       "      <td>RDSB.L</td>\n",
       "    </tr>\n",
       "  </tbody>\n",
       "</table>\n",
       "</div>"
      ],
      "text/plain": [
       "                       Open    High     Low   Close     Volume    Adj_Close  \\\n",
       "Datetime                                                                      \n",
       "2015-01-02 09:00:00  2242.0  2256.0  2205.0  2235.5  2963987.0  1559.451416   \n",
       "2015-01-05 09:00:00  2220.0  2229.0  2123.0  2128.5  5908429.0  1484.810181   \n",
       "2015-01-06 09:00:00  2125.0  2172.5  2077.5  2121.0  5231824.0  1479.578003   \n",
       "2015-01-07 09:00:00  2122.0  2181.5  2104.0  2148.5  5989533.0  1498.761475   \n",
       "2015-01-08 09:00:00  2187.5  2207.5  2162.0  2200.0  4272088.0  1534.687256   \n",
       "\n",
       "                     Symbol  \n",
       "Datetime                     \n",
       "2015-01-02 09:00:00  RDSB.L  \n",
       "2015-01-05 09:00:00  RDSB.L  \n",
       "2015-01-06 09:00:00  RDSB.L  \n",
       "2015-01-07 09:00:00  RDSB.L  \n",
       "2015-01-08 09:00:00  RDSB.L  "
      ]
     },
     "execution_count": 20,
     "metadata": {},
     "output_type": "execute_result"
    }
   ],
   "source": [
    "results.head()"
   ]
  },
  {
   "cell_type": "code",
   "execution_count": 18,
   "metadata": {},
   "outputs": [
    {
     "data": {
      "text/plain": [
       "Timestamp('2020-11-06 09:00:00')"
      ]
     },
     "execution_count": 18,
     "metadata": {},
     "output_type": "execute_result"
    }
   ],
   "source": [
    "results.index.max()"
   ]
  },
  {
   "cell_type": "code",
   "execution_count": null,
   "metadata": {},
   "outputs": [],
   "source": []
  },
  {
   "cell_type": "code",
   "execution_count": null,
   "metadata": {},
   "outputs": [],
   "source": []
  },
  {
   "cell_type": "code",
   "execution_count": null,
   "metadata": {},
   "outputs": [],
   "source": []
  }
 ],
 "metadata": {
  "kernelspec": {
   "display_name": "Python 3",
   "language": "python",
   "name": "python3"
  },
  "language_info": {
   "codemirror_mode": {
    "name": "ipython",
    "version": 3
   },
   "file_extension": ".py",
   "mimetype": "text/x-python",
   "name": "python",
   "nbconvert_exporter": "python",
   "pygments_lexer": "ipython3",
   "version": "3.7.0"
  }
 },
 "nbformat": 4,
 "nbformat_minor": 4
}
