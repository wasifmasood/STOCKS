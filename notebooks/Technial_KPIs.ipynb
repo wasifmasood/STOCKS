{
 "cells": [
  {
   "cell_type": "code",
   "execution_count": 4,
   "metadata": {},
   "outputs": [],
   "source": [
    "import pandas as pd\n",
    "import numpy as np"
   ]
  },
  {
   "cell_type": "markdown",
   "metadata": {},
   "source": [
    "### I am using already extracted prices, see the Extract_Prices_via_Threading notebook to pull the latested prices"
   ]
  },
  {
   "cell_type": "code",
   "execution_count": 22,
   "metadata": {},
   "outputs": [],
   "source": [
    "file = '../data/index_price.csv'\n",
    "df_quotes = pd.read_csv(file, sep = ';')\n",
    "df_quotes.index = pd.to_datetime(df_quotes.Datetime)"
   ]
  },
  {
   "cell_type": "markdown",
   "metadata": {},
   "source": [
    "### This file contains prices for several stocks"
   ]
  },
  {
   "cell_type": "code",
   "execution_count": 23,
   "metadata": {},
   "outputs": [
    {
     "data": {
      "text/html": [
       "<div>\n",
       "<style scoped>\n",
       "    .dataframe tbody tr th:only-of-type {\n",
       "        vertical-align: middle;\n",
       "    }\n",
       "\n",
       "    .dataframe tbody tr th {\n",
       "        vertical-align: top;\n",
       "    }\n",
       "\n",
       "    .dataframe thead th {\n",
       "        text-align: right;\n",
       "    }\n",
       "</style>\n",
       "<table border=\"1\" class=\"dataframe\">\n",
       "  <thead>\n",
       "    <tr style=\"text-align: right;\">\n",
       "      <th></th>\n",
       "      <th>Datetime</th>\n",
       "      <th>Open</th>\n",
       "      <th>High</th>\n",
       "      <th>Low</th>\n",
       "      <th>Close</th>\n",
       "      <th>Volume</th>\n",
       "      <th>Symbol</th>\n",
       "      <th>Adj_Close</th>\n",
       "    </tr>\n",
       "    <tr>\n",
       "      <th>Datetime</th>\n",
       "      <th></th>\n",
       "      <th></th>\n",
       "      <th></th>\n",
       "      <th></th>\n",
       "      <th></th>\n",
       "      <th></th>\n",
       "      <th></th>\n",
       "      <th></th>\n",
       "    </tr>\n",
       "  </thead>\n",
       "  <tbody>\n",
       "    <tr>\n",
       "      <th>2010-01-04 09:00:00</th>\n",
       "      <td>2010-01-04 09:00:00</td>\n",
       "      <td>3952.209961</td>\n",
       "      <td>4013.969971</td>\n",
       "      <td>3950.610107</td>\n",
       "      <td>4013.969971</td>\n",
       "      <td>113396000.0</td>\n",
       "      <td>^FCHI</td>\n",
       "      <td>4013.969971</td>\n",
       "    </tr>\n",
       "    <tr>\n",
       "      <th>2010-01-05 09:00:00</th>\n",
       "      <td>2010-01-05 09:00:00</td>\n",
       "      <td>4012.429932</td>\n",
       "      <td>4028.340088</td>\n",
       "      <td>3993.330078</td>\n",
       "      <td>4012.909912</td>\n",
       "      <td>129518600.0</td>\n",
       "      <td>^FCHI</td>\n",
       "      <td>4012.909912</td>\n",
       "    </tr>\n",
       "    <tr>\n",
       "      <th>2010-01-06 09:00:00</th>\n",
       "      <td>2010-01-06 09:00:00</td>\n",
       "      <td>4014.449951</td>\n",
       "      <td>4022.939941</td>\n",
       "      <td>3996.800049</td>\n",
       "      <td>4017.669922</td>\n",
       "      <td>110087000.0</td>\n",
       "      <td>^FCHI</td>\n",
       "      <td>4017.669922</td>\n",
       "    </tr>\n",
       "    <tr>\n",
       "      <th>2010-01-07 09:00:00</th>\n",
       "      <td>2010-01-07 09:00:00</td>\n",
       "      <td>4005.959961</td>\n",
       "      <td>4032.239990</td>\n",
       "      <td>3983.899902</td>\n",
       "      <td>4024.800049</td>\n",
       "      <td>118430400.0</td>\n",
       "      <td>^FCHI</td>\n",
       "      <td>4024.800049</td>\n",
       "    </tr>\n",
       "    <tr>\n",
       "      <th>2010-01-08 09:00:00</th>\n",
       "      <td>2010-01-08 09:00:00</td>\n",
       "      <td>4042.639893</td>\n",
       "      <td>4051.409912</td>\n",
       "      <td>4013.340088</td>\n",
       "      <td>4045.139893</td>\n",
       "      <td>131783200.0</td>\n",
       "      <td>^FCHI</td>\n",
       "      <td>4045.139893</td>\n",
       "    </tr>\n",
       "  </tbody>\n",
       "</table>\n",
       "</div>"
      ],
      "text/plain": [
       "                                Datetime         Open         High  \\\n",
       "Datetime                                                             \n",
       "2010-01-04 09:00:00  2010-01-04 09:00:00  3952.209961  4013.969971   \n",
       "2010-01-05 09:00:00  2010-01-05 09:00:00  4012.429932  4028.340088   \n",
       "2010-01-06 09:00:00  2010-01-06 09:00:00  4014.449951  4022.939941   \n",
       "2010-01-07 09:00:00  2010-01-07 09:00:00  4005.959961  4032.239990   \n",
       "2010-01-08 09:00:00  2010-01-08 09:00:00  4042.639893  4051.409912   \n",
       "\n",
       "                             Low        Close       Volume Symbol    Adj_Close  \n",
       "Datetime                                                                        \n",
       "2010-01-04 09:00:00  3950.610107  4013.969971  113396000.0  ^FCHI  4013.969971  \n",
       "2010-01-05 09:00:00  3993.330078  4012.909912  129518600.0  ^FCHI  4012.909912  \n",
       "2010-01-06 09:00:00  3996.800049  4017.669922  110087000.0  ^FCHI  4017.669922  \n",
       "2010-01-07 09:00:00  3983.899902  4024.800049  118430400.0  ^FCHI  4024.800049  \n",
       "2010-01-08 09:00:00  4013.340088  4045.139893  131783200.0  ^FCHI  4045.139893  "
      ]
     },
     "execution_count": 23,
     "metadata": {},
     "output_type": "execute_result"
    }
   ],
   "source": [
    "df_data.head()"
   ]
  },
  {
   "cell_type": "code",
   "execution_count": 24,
   "metadata": {},
   "outputs": [
    {
     "data": {
      "text/plain": [
       "array(['^FCHI'], dtype=object)"
      ]
     },
     "execution_count": 24,
     "metadata": {},
     "output_type": "execute_result"
    }
   ],
   "source": [
    "df_data.Symbol.unique()"
   ]
  },
  {
   "cell_type": "code",
   "execution_count": 21,
   "metadata": {},
   "outputs": [],
   "source": [
    "df_data = df_quotes[df_quotes['Symbol']==ticker]"
   ]
  },
  {
   "cell_type": "code",
   "execution_count": null,
   "metadata": {},
   "outputs": [],
   "source": []
  }
 ],
 "metadata": {
  "kernelspec": {
   "display_name": "Python 3",
   "language": "python",
   "name": "python3"
  },
  "language_info": {
   "codemirror_mode": {
    "name": "ipython",
    "version": 3
   },
   "file_extension": ".py",
   "mimetype": "text/x-python",
   "name": "python",
   "nbconvert_exporter": "python",
   "pygments_lexer": "ipython3",
   "version": "3.7.0"
  }
 },
 "nbformat": 4,
 "nbformat_minor": 4
}
