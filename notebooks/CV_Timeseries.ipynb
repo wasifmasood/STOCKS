{
 "cells": [
  {
   "cell_type": "code",
   "execution_count": 3,
   "metadata": {},
   "outputs": [],
   "source": [
    "import os, sys\n",
    "sys.path.append(os.getcwd() + '/../..')\n",
    "sys.path.append(os.getcwd() + '/..')"
   ]
  },
  {
   "cell_type": "code",
   "execution_count": 4,
   "metadata": {},
   "outputs": [],
   "source": [
    "### allows to direct changes in the packages to be immidiately visibe in the notebook \n",
    "%load_ext autoreload\n",
    "%autoreload 2"
   ]
  },
  {
   "cell_type": "code",
   "execution_count": 5,
   "metadata": {},
   "outputs": [],
   "source": [
    "import pandas as pd\n",
    "import matplotlib.pyplot as plt\n",
    "import packages.ta_helper as talib\n",
    "from finance_packages.TimeBasedRV import TimeBasedRV"
   ]
  },
  {
   "cell_type": "markdown",
   "metadata": {},
   "source": [
    "##### I am using already extracted prices, see the Extract_Prices_via_Threading notebook to pull the latested prices"
   ]
  },
  {
   "cell_type": "code",
   "execution_count": 7,
   "metadata": {},
   "outputs": [],
   "source": [
    "file = '../data/index_price.csv'\n",
    "df_quotes = pd.read_csv(file, sep = ';')\n",
    "df_quotes.index = pd.to_datetime(df_quotes.Datetime)\n",
    "\n",
    "ticker = '^GSPC'\n",
    "df_data = df_quotes[df_quotes['Symbol']==ticker]"
   ]
  },
  {
   "cell_type": "code",
   "execution_count": 13,
   "metadata": {},
   "outputs": [
    {
     "data": {
      "text/html": [
       "<div>\n",
       "<style scoped>\n",
       "    .dataframe tbody tr th:only-of-type {\n",
       "        vertical-align: middle;\n",
       "    }\n",
       "\n",
       "    .dataframe tbody tr th {\n",
       "        vertical-align: top;\n",
       "    }\n",
       "\n",
       "    .dataframe thead th {\n",
       "        text-align: right;\n",
       "    }\n",
       "</style>\n",
       "<table border=\"1\" class=\"dataframe\">\n",
       "  <thead>\n",
       "    <tr style=\"text-align: right;\">\n",
       "      <th></th>\n",
       "      <th>Datetime</th>\n",
       "      <th>Open</th>\n",
       "      <th>High</th>\n",
       "      <th>Low</th>\n",
       "      <th>Close</th>\n",
       "      <th>Volume</th>\n",
       "      <th>Symbol</th>\n",
       "      <th>Adj_Close</th>\n",
       "    </tr>\n",
       "    <tr>\n",
       "      <th>Datetime</th>\n",
       "      <th></th>\n",
       "      <th></th>\n",
       "      <th></th>\n",
       "      <th></th>\n",
       "      <th></th>\n",
       "      <th></th>\n",
       "      <th></th>\n",
       "      <th></th>\n",
       "    </tr>\n",
       "  </thead>\n",
       "  <tbody>\n",
       "    <tr>\n",
       "      <th>2010-01-04 15:30:00</th>\n",
       "      <td>2010-01-04 15:30:00</td>\n",
       "      <td>1116.560059</td>\n",
       "      <td>1133.869995</td>\n",
       "      <td>1116.560059</td>\n",
       "      <td>1132.989990</td>\n",
       "      <td>3.991400e+09</td>\n",
       "      <td>^GSPC</td>\n",
       "      <td>1132.989990</td>\n",
       "    </tr>\n",
       "    <tr>\n",
       "      <th>2010-01-05 15:30:00</th>\n",
       "      <td>2010-01-05 15:30:00</td>\n",
       "      <td>1132.660034</td>\n",
       "      <td>1136.630005</td>\n",
       "      <td>1129.660034</td>\n",
       "      <td>1136.520020</td>\n",
       "      <td>2.491020e+09</td>\n",
       "      <td>^GSPC</td>\n",
       "      <td>1136.520020</td>\n",
       "    </tr>\n",
       "    <tr>\n",
       "      <th>2010-01-06 15:30:00</th>\n",
       "      <td>2010-01-06 15:30:00</td>\n",
       "      <td>1135.709961</td>\n",
       "      <td>1139.189941</td>\n",
       "      <td>1133.949951</td>\n",
       "      <td>1137.140015</td>\n",
       "      <td>4.972660e+09</td>\n",
       "      <td>^GSPC</td>\n",
       "      <td>1137.140015</td>\n",
       "    </tr>\n",
       "    <tr>\n",
       "      <th>2010-01-07 15:30:00</th>\n",
       "      <td>2010-01-07 15:30:00</td>\n",
       "      <td>1136.270020</td>\n",
       "      <td>1142.459961</td>\n",
       "      <td>1131.319946</td>\n",
       "      <td>1141.689941</td>\n",
       "      <td>5.270680e+09</td>\n",
       "      <td>^GSPC</td>\n",
       "      <td>1141.689941</td>\n",
       "    </tr>\n",
       "    <tr>\n",
       "      <th>2010-01-08 15:30:00</th>\n",
       "      <td>2010-01-08 15:30:00</td>\n",
       "      <td>1140.520020</td>\n",
       "      <td>1145.390015</td>\n",
       "      <td>1136.219971</td>\n",
       "      <td>1144.979980</td>\n",
       "      <td>4.389590e+09</td>\n",
       "      <td>^GSPC</td>\n",
       "      <td>1144.979980</td>\n",
       "    </tr>\n",
       "  </tbody>\n",
       "</table>\n",
       "</div>"
      ],
      "text/plain": [
       "                                Datetime         Open         High  \\\n",
       "Datetime                                                             \n",
       "2010-01-04 15:30:00  2010-01-04 15:30:00  1116.560059  1133.869995   \n",
       "2010-01-05 15:30:00  2010-01-05 15:30:00  1132.660034  1136.630005   \n",
       "2010-01-06 15:30:00  2010-01-06 15:30:00  1135.709961  1139.189941   \n",
       "2010-01-07 15:30:00  2010-01-07 15:30:00  1136.270020  1142.459961   \n",
       "2010-01-08 15:30:00  2010-01-08 15:30:00  1140.520020  1145.390015   \n",
       "\n",
       "                             Low        Close        Volume Symbol  \\\n",
       "Datetime                                                             \n",
       "2010-01-04 15:30:00  1116.560059  1132.989990  3.991400e+09  ^GSPC   \n",
       "2010-01-05 15:30:00  1129.660034  1136.520020  2.491020e+09  ^GSPC   \n",
       "2010-01-06 15:30:00  1133.949951  1137.140015  4.972660e+09  ^GSPC   \n",
       "2010-01-07 15:30:00  1131.319946  1141.689941  5.270680e+09  ^GSPC   \n",
       "2010-01-08 15:30:00  1136.219971  1144.979980  4.389590e+09  ^GSPC   \n",
       "\n",
       "                       Adj_Close  \n",
       "Datetime                          \n",
       "2010-01-04 15:30:00  1132.989990  \n",
       "2010-01-05 15:30:00  1136.520020  \n",
       "2010-01-06 15:30:00  1137.140015  \n",
       "2010-01-07 15:30:00  1141.689941  \n",
       "2010-01-08 15:30:00  1144.979980  "
      ]
     },
     "execution_count": 13,
     "metadata": {},
     "output_type": "execute_result"
    }
   ],
   "source": [
    "df_data.head()"
   ]
  },
  {
   "cell_type": "code",
   "execution_count": 27,
   "metadata": {},
   "outputs": [
    {
     "data": {
      "text/plain": [
       "Timestamp('2020-08-14 15:30:00')"
      ]
     },
     "execution_count": 27,
     "metadata": {},
     "output_type": "execute_result"
    }
   ],
   "source": [
    "df_data.index.max()"
   ]
  },
  {
   "cell_type": "code",
   "execution_count": 16,
   "metadata": {},
   "outputs": [],
   "source": [
    "df_y = df_data['Close']\n",
    "df_X = df_data['Datetime']"
   ]
  },
  {
   "cell_type": "markdown",
   "metadata": {},
   "source": [
    "##### Cross validation in time series is more challenging as the usual methods of random split is not applicable here. To keep the time structure of a time series consistent, we need to successively break the data into train and validation sets. There are several customized methods out there but I particularly admire the one with the use of 'gap'. In addition to keeping the time structure consistent, a gap of certain time unit is introduced to between the train and the validation set. Here is the implementation of such method. A very detailed article on cross validation in time series can be found here https://medium.com/@soumyachess1496/cross-validation-in-time-series-566ae4981ce4"
   ]
  },
  {
   "cell_type": "code",
   "execution_count": 42,
   "metadata": {},
   "outputs": [],
   "source": [
    "valid_period = 3  ### number of units test/validation is desired to be performed\n",
    "freq = 'days'    ### unit of time,i.e., days, months, years, weeks, hours, minutes, seconds\n",
    "gap=1            ### how much apart you wish the train and test/validation set should be, 0 means that the validation window starts right after train window\n",
    "train_end_dt = '2020-07-21 15:30:00' \n",
    "tscv = TimeBasedRV(test_period=valid_period, freq=freq, train_end_dt=train_end_dt)"
   ]
  },
  {
   "cell_type": "code",
   "execution_count": 45,
   "metadata": {},
   "outputs": [
    {
     "name": "stdout",
     "output_type": "stream",
     "text": [
      "train set finished at 2020-07-21 15:30:00\n",
      "valid starts at 2020-07-23 15:30:00\n",
      "len of valid 3\n",
      "train set finished at 2020-07-22 15:30:00\n",
      "valid starts at 2020-07-24 15:30:00\n",
      "len of valid 3\n",
      "train set finished at 2020-07-23 15:30:00\n",
      "valid starts at 2020-07-27 15:30:00\n",
      "len of valid 3\n",
      "train set finished at 2020-07-24 15:30:00\n",
      "valid starts at 2020-07-27 15:30:00\n",
      "len of valid 3\n",
      "train set finished at 2020-07-24 15:30:00\n",
      "valid starts at 2020-07-27 15:30:00\n",
      "len of valid 3\n",
      "train set finished at 2020-07-24 15:30:00\n",
      "valid starts at 2020-07-28 15:30:00\n",
      "len of valid 3\n",
      "train set finished at 2020-07-27 15:30:00\n",
      "valid starts at 2020-07-29 15:30:00\n",
      "len of valid 3\n",
      "train set finished at 2020-07-28 15:30:00\n",
      "valid starts at 2020-07-30 15:30:00\n",
      "len of valid 3\n",
      "train set finished at 2020-07-29 15:30:00\n",
      "valid starts at 2020-07-31 15:30:00\n",
      "len of valid 3\n",
      "train set finished at 2020-07-30 15:30:00\n",
      "valid starts at 2020-08-03 15:30:00\n",
      "len of valid 3\n",
      "train set finished at 2020-07-31 15:30:00\n",
      "valid starts at 2020-08-03 15:30:00\n",
      "len of valid 3\n",
      "train set finished at 2020-07-31 15:30:00\n",
      "valid starts at 2020-08-03 15:30:00\n",
      "len of valid 3\n",
      "train set finished at 2020-07-31 15:30:00\n",
      "valid starts at 2020-08-04 15:30:00\n",
      "len of valid 3\n",
      "train set finished at 2020-08-03 15:30:00\n",
      "valid starts at 2020-08-05 15:30:00\n",
      "len of valid 3\n",
      "train set finished at 2020-08-04 15:30:00\n",
      "valid starts at 2020-08-06 15:30:00\n",
      "len of valid 3\n",
      "train set finished at 2020-08-05 15:30:00\n",
      "valid starts at 2020-08-07 15:30:00\n",
      "len of valid 3\n",
      "train set finished at 2020-08-06 15:30:00\n",
      "valid starts at 2020-08-10 15:30:00\n",
      "len of valid 3\n",
      "train set finished at 2020-08-07 15:30:00\n",
      "valid starts at 2020-08-10 15:30:00\n",
      "len of valid 3\n",
      "train set finished at 2020-08-07 15:30:00\n",
      "valid starts at 2020-08-10 15:30:00\n",
      "len of valid 3\n",
      "train set finished at 2020-08-07 15:30:00\n",
      "valid starts at 2020-08-11 15:30:00\n",
      "len of valid 3\n"
     ]
    }
   ],
   "source": [
    "\n",
    "for train_index, valid_index in tscv.split(df_data, gap=1):    \n",
    "\n",
    "    X_train, X_valid = df_X.loc[train_index], df_X.loc[valid_index]        \n",
    "    y_train, y_valid = df_y.loc[train_index], df_y.loc[valid_index]\n",
    "    \n",
    "    print('train set finished at',X_train.index.max())\n",
    "    print('valid starts at',X_valid.index.min())\n",
    "    print('len of valid',X_valid.shape[0])"
   ]
  },
  {
   "cell_type": "markdown",
   "metadata": {},
   "source": [
    "##### In the above example, the results printed are self explanatory. Validation set starts right after train set end + gap, lenght of the validation set is valid_period, cross validation process starts from train_end_dt and goes all the way till the end of the data set with each window (length valid_period) increamented by gap\n"
   ]
  },
  {
   "cell_type": "code",
   "execution_count": null,
   "metadata": {},
   "outputs": [],
   "source": []
  }
 ],
 "metadata": {
  "kernelspec": {
   "display_name": "Python 3",
   "language": "python",
   "name": "python3"
  },
  "language_info": {
   "codemirror_mode": {
    "name": "ipython",
    "version": 3
   },
   "file_extension": ".py",
   "mimetype": "text/x-python",
   "name": "python",
   "nbconvert_exporter": "python",
   "pygments_lexer": "ipython3",
   "version": "3.7.0"
  }
 },
 "nbformat": 4,
 "nbformat_minor": 4
}
